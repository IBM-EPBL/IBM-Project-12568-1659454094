{
  "nbformat": 4,
  "nbformat_minor": 0,
  "metadata": {
    "colab": {
      "provenance": []
    },
    "kernelspec": {
      "name": "python3",
      "display_name": "Python 3"
    },
    "language_info": {
      "name": "python"
    }
  },
  "cells": [
    {
      "cell_type": "code",
      "source": [
        "from tensorflow.keras.preprocessing.image import ImageDataGenerator"
      ],
      "metadata": {
        "id": "LU4_7qRjmWTr"
      },
      "execution_count": 3,
      "outputs": []
    },
    {
      "cell_type": "code",
      "source": [
        "train_datagen=ImageDataGenerator(rescale=1./255,\n",
        "                                 shear_range=0.1,\n",
        "                                 zoom_range=0.1,\n",
        "                                 horizontal_flip=True)"
      ],
      "metadata": {
        "id": "JKsVlJdSwLUV"
      },
      "execution_count": 4,
      "outputs": []
    },
    {
      "cell_type": "code",
      "source": [
        "test_datagen=ImageDataGenerator(rescale=1./255)"
      ],
      "metadata": {
        "id": "qwmqNZrswTed"
      },
      "execution_count": 5,
      "outputs": []
    },
    {
      "cell_type": "code",
      "source": [
        "trainPath = \"/content/TRAIN_SET\"\n",
        "testPath = \"/content/TEST_SET\"\n",
        "training_set=train_datagen.flow_from_directory(trainPath,\n",
        "                                               target_size=(224,224),\n",
        "                                               batch_size=10,\n",
        "                                               class_mode='categorical')\n",
        "test_set=test_datagen.flow_from_directory(testPath,\n",
        "                                               target_size=(224,224),\n",
        "                                               batch_size=10,\n",
        "                                               class_mode='categorical')\n"
      ],
      "metadata": {
        "colab": {
          "base_uri": "https://localhost:8080/"
        },
        "id": "iT1PHQIswVlQ",
        "outputId": "d23ac650-566d-4e9c-a0c1-847a8d575f49"
      },
      "execution_count": 7,
      "outputs": [
        {
          "output_type": "stream",
          "name": "stdout",
          "text": [
            "Found 2626 images belonging to 5 classes.\n",
            "Found 1055 images belonging to 5 classes.\n"
          ]
        }
      ]
    }
  ]
}